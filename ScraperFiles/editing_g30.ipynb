{
 "metadata": {
  "language_info": {
   "codemirror_mode": {
    "name": "ipython",
    "version": 3
   },
   "file_extension": ".py",
   "mimetype": "text/x-python",
   "name": "python",
   "nbconvert_exporter": "python",
   "pygments_lexer": "ipython3",
   "version": "3.7.9-final"
  },
  "orig_nbformat": 2,
  "kernelspec": {
   "name": "python3",
   "display_name": "Python 3.7.9 64-bit ('3.7.9')",
   "metadata": {
    "interpreter": {
     "hash": "b92a194692ea81b0afd8109b7556d912835ab8aedddc7e843cbd8cc281951658"
    }
   }
  }
 },
 "nbformat": 4,
 "nbformat_minor": 2,
 "cells": [
  {
   "cell_type": "code",
   "execution_count": 2,
   "metadata": {},
   "outputs": [],
   "source": [
    "import json"
   ]
  },
  {
   "cell_type": "code",
   "execution_count": 23,
   "metadata": {
    "tags": []
   },
   "outputs": [],
   "source": [
    "out_file = open(\"g30-covid19_camhx.json\", \"r\") \n",
    "discussions = json.load(out_file)"
   ]
  },
  {
   "cell_type": "code",
   "execution_count": 7,
   "metadata": {},
   "outputs": [],
   "source": [
    "def transform(content):\n",
    "    content = content.replace(\"\\n\",\"\").replace(\"\\r\",\"\")\n",
    "    content = ' '.join(content.split())\n",
    "    content = content.lower()\n",
    "    return content"
   ]
  },
  {
   "cell_type": "code",
   "execution_count": 25,
   "metadata": {},
   "outputs": [],
   "source": [
    "for i in range(len(discussions)):\n",
    "    discussions[i]['title'] = transform(discussions[i]['title'])\n",
    "    discussions[i]['author'] = transform(discussions[i]['author'] )\n",
    "    discussions[i]['content'] = transform(discussions[i]['content'])\n",
    "    for j in range(len(discussions[i]['replies'])):\n",
    "        discussions[i]['replies'][j] = discussions[i]['replies'][j][0]\n",
    "        discussions[i]['replies'][j]['content'] = transform(discussions[i]['replies'][j]['reply_content'])\n",
    "        del discussions[i]['replies'][j]['reply_content']\n",
    "        discussions[i]['replies'][j]['sub_replies'] = [transform(discussions[i]['replies'][j]['sub_reply_content'])]\n",
    "        del discussions[i]['replies'][j]['sub_reply_content']"
   ]
  },
  {
   "cell_type": "code",
   "execution_count": 26,
   "metadata": {},
   "outputs": [],
   "source": [
    "out_file = open(\"g30-covid19_camhx.json\", \"w\") \n",
    "json.dump(discussions, out_file, indent = 2) \n",
    "out_file.close()"
   ]
  },
  {
   "cell_type": "code",
   "execution_count": 5,
   "metadata": {},
   "outputs": [],
   "source": [
    "out_file = open(\"g03_medhelp.json\", \"r\") \n",
    "discussions = json.load(out_file)"
   ]
  },
  {
   "cell_type": "code",
   "execution_count": 9,
   "metadata": {},
   "outputs": [],
   "source": [
    "for i in range(len(discussions)):\n",
    "    discussions[i]['title'] = transform(discussions[i]['title'])\n",
    "    discussions[i]['author'] = transform(discussions[i]['author'] )\n",
    "    discussions[i]['content'] = transform(discussions[i]['content'])\n",
    "    for j in range(len(discussions[i]['replies'])):\n",
    "        discussions[i]['replies'][j]['content'] = transform(discussions[i]['replies'][j]['content'])\n",
    "        sub_replies = discussions[i]['replies'][j]['sub_replies']\n",
    "        if len(sub_replies) > 0:\n",
    "            discussions[i]['replies'][j]['sub_replies'] = sub_replies[0]\n",
    "            for k in range(len(discussions[i]['replies'][j]['sub_replies'])):\n",
    "                content = discussions[i]['replies'][j]['sub_replies'][k]\n",
    "                discussions[i]['replies'][j]['sub_replies'][k] = transform(content)"
   ]
  },
  {
   "cell_type": "code",
   "execution_count": 10,
   "metadata": {},
   "outputs": [],
   "source": [
    "out_file = open(\"g03_medhelp.json\", \"w\") \n",
    "json.dump(discussions, out_file, indent = 2) \n",
    "out_file.close()"
   ]
  },
  {
   "cell_type": "code",
   "execution_count": 12,
   "metadata": {},
   "outputs": [],
   "source": [
    "out_file = open(\"g25_live_science.json\", \"r\") \n",
    "discussions = json.load(out_file)"
   ]
  },
  {
   "cell_type": "code",
   "execution_count": 14,
   "metadata": {},
   "outputs": [],
   "source": [
    "for i in range(len(discussions)):\n",
    "    discussions[i]['title'] = transform(discussions[i]['title'])\n",
    "    discussions[i]['author'] = ''\n",
    "    discussions[i]['content'] = transform(discussions[i]['content'])\n",
    "    for j in range(len(discussions[i]['replies'])):\n",
    "        discussions[i]['replies'][j]['content'] = transform(discussions[i]['replies'][j]['content'][0])\n",
    "        sub_replies = discussions[i]['replies'][j]['sub_replies']\n",
    "        if len(sub_replies) > 0:\n",
    "            discussions[i]['replies'][j]['sub_replies'] = sub_replies[0]\n",
    "            for k in range(len(discussions[i]['replies'][j]['sub_replies'])):\n",
    "                content = discussions[i]['replies'][j]['sub_replies'][k]\n",
    "                discussions[i]['replies'][j]['sub_replies'][k] = transform(content)"
   ]
  },
  {
   "cell_type": "code",
   "execution_count": 15,
   "metadata": {},
   "outputs": [],
   "source": [
    "out_file = open(\"g25_live_science.json\", \"w\") \n",
    "json.dump(discussions, out_file, indent = 2) \n",
    "out_file.close()"
   ]
  },
  {
   "cell_type": "code",
   "execution_count": null,
   "metadata": {},
   "outputs": [],
   "source": []
  }
 ]
}